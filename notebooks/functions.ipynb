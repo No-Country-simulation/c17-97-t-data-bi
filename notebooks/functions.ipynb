{
 "cells": [
  {
   "cell_type": "markdown",
   "metadata": {},
   "source": [
    "# Functions"
   ]
  },
  {
   "cell_type": "markdown",
   "metadata": {},
   "source": [
    "### Dependencies"
   ]
  },
  {
   "cell_type": "code",
   "execution_count": 1,
   "metadata": {},
   "outputs": [],
   "source": [
    "# File Management libraries\n",
    "import os\n",
    "from pathlib import Path\n",
    "\n",
    "#APIs\n",
    "from kaggle.api.kaggle_api_extended import KaggleApi"
   ]
  },
  {
   "cell_type": "code",
   "execution_count": null,
   "metadata": {},
   "outputs": [],
   "source": [
    "# Reload Dependencies Instructions\n",
    "%load_ext autoreload\n",
    "%autoreload 2"
   ]
  },
  {
   "cell_type": "markdown",
   "metadata": {},
   "source": [
    "### getProjectRoot()"
   ]
  },
  {
   "cell_type": "markdown",
   "metadata": {},
   "source": [
    "This Script retrieves the absolute path of the project root directory.\n",
    "\n",
    "**Parameters:**\n",
    "* None\n",
    "\n",
    "**Returns:**\n",
    "* A string containing the project's root absolute path"
   ]
  },
  {
   "cell_type": "code",
   "execution_count": null,
   "metadata": {},
   "outputs": [],
   "source": [
    "def getProjectRoot() -> str:\n",
    "\n",
    "    # Absolute path of the .py file containing the Script\n",
    "    PATH = os.path.abspath(__file__)\n",
    "\n",
    "    # Cycle for going to an upper level of the path directory until finding the project's root\n",
    "    for i in range(3):\n",
    "        PATH = os.path.dirname(PATH)\n",
    "\n",
    "    return PATH"
   ]
  },
  {
   "cell_type": "markdown",
   "metadata": {},
   "source": [
    "### downloadData()"
   ]
  },
  {
   "cell_type": "markdown",
   "metadata": {},
   "source": [
    "This Script downloads relevant dataset files from the Kaggle API and creates the `../data/raw` directory if it doesn't exists. Remember to get an access token from the Kaggle [account settings](https://www.kaggle.com/settings/account) and follow the instructions.\n",
    "\n",
    "**Parameters:**\n",
    "- None\n",
    "\n",
    "**Returns:**\n",
    "- 9 .CSV Files downloaded in the ../data/raw directory"
   ]
  },
  {
   "cell_type": "code",
   "execution_count": 33,
   "metadata": {},
   "outputs": [
    {
     "name": "stdout",
     "output_type": "stream",
     "text": [
      "Files from olistbr/brazilian-ecommerce in ..\\data\\raw already downloaded\n"
     ]
    }
   ],
   "source": [
    "\n",
    "def downloadData():\n",
    "\n",
    "    # Defining variables\n",
    "    ROOT = getProjectRoot()\n",
    "    DATADIR = os.path.join(ROOT,'data','raw')\n",
    "    FILESPATH = Path(DATADIR)\n",
    "    DATASET = 'olistbr/brazilian-ecommerce'\n",
    "\n",
    "    # Checking if the directory exists\n",
    "    if not FILESPATH.is_dir():\n",
    "        print(f'Downloading files from {DATASET} in {FILESPATH}')\n",
    "\n",
    "        # API authentication and Instance\n",
    "        api = KaggleApi()\n",
    "        api.authenticate()\n",
    "\n",
    "        # API call for downloading files\n",
    "        api.dataset_download_files(dataset=DATASET, path=FILESPATH, unzip=True)\n",
    "        print(f'Files from {DATASET} downloaded!')\n",
    "\n",
    "    # Verifiying already downloaded files\n",
    "    else:\n",
    "        print(f'Files from {DATASET} in {FILESPATH} already downloaded')"
   ]
  }
 ],
 "metadata": {
  "kernelspec": {
   "display_name": "c17-97-t-data-bi",
   "language": "python",
   "name": "python3"
  },
  "language_info": {
   "codemirror_mode": {
    "name": "ipython",
    "version": 3
   },
   "file_extension": ".py",
   "mimetype": "text/x-python",
   "name": "python",
   "nbconvert_exporter": "python",
   "pygments_lexer": "ipython3",
   "version": "3.7.16"
  }
 },
 "nbformat": 4,
 "nbformat_minor": 2
}
